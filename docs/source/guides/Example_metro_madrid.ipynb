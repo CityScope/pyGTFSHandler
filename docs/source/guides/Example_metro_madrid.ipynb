{
 "cells": [
  {
   "cell_type": "markdown",
   "id": "d4a9a073",
   "metadata": {},
   "source": [
    "# Example with Madrid's Metro GTFS"
   ]
  },
  {
   "cell_type": "markdown",
   "id": "564a5aa4",
   "metadata": {},
   "source": [
    "This is an example :)"
   ]
  },
  {
   "cell_type": "code",
   "execution_count": null,
   "id": "04d43622",
   "metadata": {},
   "outputs": [],
   "source": [
    "from pyGTFSHandler import Feed"
   ]
  }
 ],
 "metadata": {
  "language_info": {
   "name": "python"
  }
 },
 "nbformat": 4,
 "nbformat_minor": 5
}
